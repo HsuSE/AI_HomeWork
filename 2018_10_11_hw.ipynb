{
 "cells": [
  {
   "cell_type": "code",
   "execution_count": 304,
   "metadata": {},
   "outputs": [
    {
     "name": "stderr",
     "output_type": "stream",
     "text": [
      "c:\\users\\asus\\appdata\\local\\programs\\python\\python36\\lib\\site-packages\\ipykernel_launcher.py:13: SettingWithCopyWarning: \n",
      "A value is trying to be set on a copy of a slice from a DataFrame\n",
      "\n",
      "See the caveats in the documentation: http://pandas.pydata.org/pandas-docs/stable/indexing.html#indexing-view-versus-copy\n",
      "  del sys.path[0]\n",
      "c:\\users\\asus\\appdata\\local\\programs\\python\\python36\\lib\\site-packages\\IPython\\core\\interactiveshell.py:2961: SettingWithCopyWarning: \n",
      "A value is trying to be set on a copy of a slice from a DataFrame\n",
      "\n",
      "See the caveats in the documentation: http://pandas.pydata.org/pandas-docs/stable/indexing.html#indexing-view-versus-copy\n",
      "  exec(code_obj, self.user_global_ns, self.user_ns)\n"
     ]
    }
   ],
   "source": [
    "#讀取檔案資料\n",
    "import pandas as pd\n",
    "cereal = pd.read_csv('cereal.csv')\n",
    "# cereal.columns = ['name','mfr','type','calories','protein',\n",
    "#                   'fat','sodium','fiber','carbo','sugars',\n",
    "#                   'potass','vitamins','shelf','weight','cups','rating']\n",
    "\n",
    "GetData = cereal[['calories','protein','fat','sodium','fiber','carbo','sugars',\n",
    "                  'potass','vitamins','shelf','weight','cups','rating']]\n",
    "#處理特殊值\n",
    "for i in range(0, len(GetData)):\n",
    "    if GetData['potass'][i] == -1:\n",
    "        GetData['potass'][i] = 0\n",
    "# GetData        "
   ]
  },
  {
   "cell_type": "code",
   "execution_count": 305,
   "metadata": {},
   "outputs": [],
   "source": [
    "#訓練賦值 測試賦值\n",
    "Train_x = GetData[['calories', 'protein', 'fat', 'sodium', 'fiber', 'carbo', 'sugars','potass', 'vitamins', 'shelf', 'weight', 'cups']]\n",
    "Text_y = GetData[['rating']]"
   ]
  },
  {
   "cell_type": "code",
   "execution_count": 306,
   "metadata": {},
   "outputs": [
    {
     "name": "stderr",
     "output_type": "stream",
     "text": [
      "c:\\users\\asus\\appdata\\local\\programs\\python\\python36\\lib\\site-packages\\IPython\\core\\interactiveshell.py:2961: SettingWithCopyWarning: \n",
      "A value is trying to be set on a copy of a slice from a DataFrame\n",
      "\n",
      "See the caveats in the documentation: http://pandas.pydata.org/pandas-docs/stable/indexing.html#indexing-view-versus-copy\n",
      "  exec(code_obj, self.user_global_ns, self.user_ns)\n"
     ]
    }
   ],
   "source": [
    "#以 rating 取平均作為預測分類依據\n",
    "for i in range(0, len(GetData)):\n",
    "    if float(Text_y['rating'][i]) > float(Text_y.mean()):\n",
    "        Text_y['rating'][i] = 1\n",
    "    else:\n",
    "        Text_y['rating'][i] = 0"
   ]
  },
  {
   "cell_type": "code",
   "execution_count": 307,
   "metadata": {},
   "outputs": [
    {
     "name": "stdout",
     "output_type": "stream",
     "text": [
      "Knn-準確率: 97\n",
      "Knn-誤判率: 3\n"
     ]
    },
    {
     "name": "stderr",
     "output_type": "stream",
     "text": [
      "c:\\users\\asus\\appdata\\local\\programs\\python\\python36\\lib\\site-packages\\ipykernel_launcher.py:18: DataConversionWarning: A column-vector y was passed when a 1d array was expected. Please change the shape of y to (n_samples, ), for example using ravel().\n"
     ]
    }
   ],
   "source": [
    "#建立 Knn模型\n",
    "import pandas as pd\n",
    "from sklearn import datasets\n",
    "from sklearn import neighbors \n",
    "from sklearn.model_selection import train_test_split\n",
    "\n",
    "# iris = datasets.load_iris()\n",
    "# X = pd.DataFrame(iris.data, columns=iris.feature_names)\n",
    "# X.columns = [\"sepal_length\",\"sepal_width\",\"petal_length\",\"petal_width\"]\n",
    "# target = pd.DataFrame(iris.target, columns=[\"target\"])\n",
    "# y = target[\"target\"]\n",
    "\n",
    "\n",
    "XTrain, XTest, yTrain, yTest = train_test_split(Train_x, Text_y, test_size=0.4,random_state=1)\n",
    "k = 3\n",
    "\n",
    "knn = neighbors.KNeighborsClassifier(n_neighbors = k)\n",
    "knn.fit(Train_x, Text_y)\n",
    "#顯示單筆預測結果\n",
    "# print(knn.predict(Train_x))\n",
    "#準確與錯誤率\n",
    "Knn_accuracy = int(round(knn.score(XTest, yTest)*100))\n",
    "Knn_errorrate = 100-Knn_accuracy\n",
    "\n",
    "print(\"Knn-準確率:\", Knn_accuracy)\n",
    "print(\"Knn-誤判率:\", Knn_errorrate)\n",
    "\n",
    "# print(knn.predict(XTest))\n",
    "# print(yTest.values)"
   ]
  },
  {
   "cell_type": "code",
   "execution_count": 308,
   "metadata": {
    "scrolled": true
   },
   "outputs": [
    {
     "name": "stderr",
     "output_type": "stream",
     "text": [
      "c:\\users\\asus\\appdata\\local\\programs\\python\\python36\\lib\\site-packages\\sklearn\\model_selection\\_validation.py:528: DataConversionWarning: A column-vector y was passed when a 1d array was expected. Please change the shape of y to (n_samples, ), for example using ravel().\n",
      "  estimator.fit(X_train, y_train, **fit_params)\n",
      "c:\\users\\asus\\appdata\\local\\programs\\python\\python36\\lib\\site-packages\\sklearn\\model_selection\\_validation.py:528: DataConversionWarning: A column-vector y was passed when a 1d array was expected. Please change the shape of y to (n_samples, ), for example using ravel().\n",
      "  estimator.fit(X_train, y_train, **fit_params)\n",
      "c:\\users\\asus\\appdata\\local\\programs\\python\\python36\\lib\\site-packages\\sklearn\\model_selection\\_validation.py:528: DataConversionWarning: A column-vector y was passed when a 1d array was expected. Please change the shape of y to (n_samples, ), for example using ravel().\n",
      "  estimator.fit(X_train, y_train, **fit_params)\n",
      "c:\\users\\asus\\appdata\\local\\programs\\python\\python36\\lib\\site-packages\\sklearn\\model_selection\\_validation.py:528: DataConversionWarning: A column-vector y was passed when a 1d array was expected. Please change the shape of y to (n_samples, ), for example using ravel().\n",
      "  estimator.fit(X_train, y_train, **fit_params)\n",
      "c:\\users\\asus\\appdata\\local\\programs\\python\\python36\\lib\\site-packages\\sklearn\\model_selection\\_validation.py:528: DataConversionWarning: A column-vector y was passed when a 1d array was expected. Please change the shape of y to (n_samples, ), for example using ravel().\n",
      "  estimator.fit(X_train, y_train, **fit_params)\n",
      "c:\\users\\asus\\appdata\\local\\programs\\python\\python36\\lib\\site-packages\\sklearn\\model_selection\\_validation.py:528: DataConversionWarning: A column-vector y was passed when a 1d array was expected. Please change the shape of y to (n_samples, ), for example using ravel().\n",
      "  estimator.fit(X_train, y_train, **fit_params)\n",
      "c:\\users\\asus\\appdata\\local\\programs\\python\\python36\\lib\\site-packages\\sklearn\\model_selection\\_validation.py:528: DataConversionWarning: A column-vector y was passed when a 1d array was expected. Please change the shape of y to (n_samples, ), for example using ravel().\n",
      "  estimator.fit(X_train, y_train, **fit_params)\n",
      "c:\\users\\asus\\appdata\\local\\programs\\python\\python36\\lib\\site-packages\\sklearn\\model_selection\\_validation.py:528: DataConversionWarning: A column-vector y was passed when a 1d array was expected. Please change the shape of y to (n_samples, ), for example using ravel().\n",
      "  estimator.fit(X_train, y_train, **fit_params)\n",
      "c:\\users\\asus\\appdata\\local\\programs\\python\\python36\\lib\\site-packages\\sklearn\\model_selection\\_validation.py:528: DataConversionWarning: A column-vector y was passed when a 1d array was expected. Please change the shape of y to (n_samples, ), for example using ravel().\n",
      "  estimator.fit(X_train, y_train, **fit_params)\n",
      "c:\\users\\asus\\appdata\\local\\programs\\python\\python36\\lib\\site-packages\\sklearn\\model_selection\\_validation.py:528: DataConversionWarning: A column-vector y was passed when a 1d array was expected. Please change the shape of y to (n_samples, ), for example using ravel().\n",
      "  estimator.fit(X_train, y_train, **fit_params)\n",
      "c:\\users\\asus\\appdata\\local\\programs\\python\\python36\\lib\\site-packages\\sklearn\\model_selection\\_validation.py:528: DataConversionWarning: A column-vector y was passed when a 1d array was expected. Please change the shape of y to (n_samples, ), for example using ravel().\n",
      "  estimator.fit(X_train, y_train, **fit_params)\n",
      "c:\\users\\asus\\appdata\\local\\programs\\python\\python36\\lib\\site-packages\\sklearn\\model_selection\\_validation.py:528: DataConversionWarning: A column-vector y was passed when a 1d array was expected. Please change the shape of y to (n_samples, ), for example using ravel().\n",
      "  estimator.fit(X_train, y_train, **fit_params)\n",
      "c:\\users\\asus\\appdata\\local\\programs\\python\\python36\\lib\\site-packages\\sklearn\\model_selection\\_validation.py:528: DataConversionWarning: A column-vector y was passed when a 1d array was expected. Please change the shape of y to (n_samples, ), for example using ravel().\n",
      "  estimator.fit(X_train, y_train, **fit_params)\n",
      "c:\\users\\asus\\appdata\\local\\programs\\python\\python36\\lib\\site-packages\\sklearn\\model_selection\\_validation.py:528: DataConversionWarning: A column-vector y was passed when a 1d array was expected. Please change the shape of y to (n_samples, ), for example using ravel().\n",
      "  estimator.fit(X_train, y_train, **fit_params)\n",
      "c:\\users\\asus\\appdata\\local\\programs\\python\\python36\\lib\\site-packages\\sklearn\\model_selection\\_validation.py:528: DataConversionWarning: A column-vector y was passed when a 1d array was expected. Please change the shape of y to (n_samples, ), for example using ravel().\n",
      "  estimator.fit(X_train, y_train, **fit_params)\n"
     ]
    },
    {
     "data": {
      "image/png": "[encoded data removed]",
      "text/plain": [
       "<Figure size 432x288 with 1 Axes>"
      ]
     },
     "metadata": {
      "needs_background": "light"
     },
     "output_type": "display_data"
    }
   ],
   "source": [
    "import matplotlib.pyplot as plt #視覺化模板\n",
    "import pandas as pd\n",
    "from sklearn import neighbors \n",
    "from sklearn.model_selection import cross_val_score \n",
    "\n",
    "k_scores = []\n",
    "\n",
    "#藉由帶入不同的K值來計算對模型的影響，並傳回交叉驗證後的平均分類準確率\n",
    "for k in range(1, 6):\n",
    "    knn = neighbors.KNeighborsClassifier(n_neighbors=k)\n",
    "    scores = cross_val_score(knn,XTest,yTest,cv = 3,scoring='accuracy')\n",
    "    k_scores.append(scores.mean())    \n",
    "    result = scores.mean()\n",
    "    \n",
    "#數據視覺化\n",
    "plt.plot(range(1, 6), k_scores)\n",
    "plt.xlabel('Value of K for KNN')\n",
    "plt.ylabel('Cross-Validated Accuracy')\n",
    "plt.show()"
   ]
  },
  {
   "cell_type": "code",
   "execution_count": 309,
   "metadata": {},
   "outputs": [
    {
     "name": "stdout",
     "output_type": "stream",
     "text": [
      "羅吉斯回歸準確度: 96\n",
      "羅吉斯回歸誤判率: 4\n"
     ]
    },
    {
     "name": "stderr",
     "output_type": "stream",
     "text": [
      "c:\\users\\asus\\appdata\\local\\programs\\python\\python36\\lib\\site-packages\\sklearn\\linear_model\\logistic.py:432: FutureWarning: Default solver will be changed to 'lbfgs' in 0.22. Specify a solver to silence this warning.\n",
      "  FutureWarning)\n",
      "c:\\users\\asus\\appdata\\local\\programs\\python\\python36\\lib\\site-packages\\sklearn\\utils\\validation.py:752: DataConversionWarning: A column-vector y was passed when a 1d array was expected. Please change the shape of y to (n_samples, ), for example using ravel().\n",
      "  y = column_or_1d(y, warn=True)\n"
     ]
    }
   ],
   "source": [
    "# 建立羅吉斯回歸模型\n",
    "from sklearn import linear_model\n",
    "\n",
    "logistic_regr = linear_model.LogisticRegression()\n",
    "logistic_regr.fit(Train_x, Text_y)\n",
    "\n",
    "# Check trained model intercept\n",
    "# print(logistic_regr.intercept_)\n",
    "\n",
    "# Check trained model coefficients\n",
    "# print(logistic_regr.coef_)\n",
    "\n",
    "# 計算準確率\n",
    "# predictions = logistic_regr.predict(Train_x) 顯示個別預測結果\n",
    "# print(logistic_regr.predict(Train_x))\n",
    "#準確與錯誤率\n",
    "Logi_accuracy = int(round(logistic_regr.score(Train_x, Text_y)*100))\n",
    "Logi_errorrate = 100-Logi_accuracy \n",
    "print(\"羅吉斯回歸準確度:\",Logi_accuracy)\n",
    "print(\"羅吉斯回歸誤判率:\",Logi_errorrate)"
   ]
  },
  {
   "cell_type": "code",
   "execution_count": 310,
   "metadata": {},
   "outputs": [
    {
     "name": "stdout",
     "output_type": "stream",
     "text": [
      "預測結果\n",
      " [1. 0. 1. 1. 0. 0. 1. 0. 1. 1. 0. 1. 0. 1. 1. 1. 1. 1. 1. 1. 1. 1. 1. 1.\n",
      " 1. 1. 1. 0. 1. 1. 1. 0. 1. 1. 1. 0. 1. 1. 1. 0. 1. 1. 1. 1. 1. 1. 1. 1.\n",
      " 0. 1. 1. 1. 1. 1. 1. 1. 1. 1. 1. 0. 1. 1. 1. 1. 1. 1. 1. 1. 1. 1. 1. 1.\n",
      " 1. 1. 1. 1. 0.]\n",
      "entropy準確度: 0.8961038961038961\n",
      "----------------------------------------------\n",
      "預測正確編號: [0, 1, 2, 3, 4, 5, 'F', 7, 8, 9, 10, 11, 12, 13, 'F', 15, 16, 17, 'F', 19, 20, 21, 22, 23, 24, 25, 26, 'F', 28, 29, 30, 31, 32, 33, 34, 35, 36, 37, 38, 'F', 40, 41, 42, 43, 44, 45, 46, 47, 'F', 49, 50, 51, 52, 53, 54, 55, 56, 57, 58, 'F', 60, 61, 62, 63, 64, 65, 66, 67, 68, 69, 70, 71, 72, 73, 74, 75, 'F']  \n",
      "個數: 69\n",
      "----------------------------------------------\n",
      "預測錯誤編號: ['T', 'T', 'T', 'T', 'T', 'T', 6, 'T', 'T', 'T', 'T', 'T', 'T', 'T', 14, 'T', 'T', 'T', 18, 'T', 'T', 'T', 'T', 'T', 'T', 'T', 'T', 27, 'T', 'T', 'T', 'T', 'T', 'T', 'T', 'T', 'T', 'T', 'T', 39, 'T', 'T', 'T', 'T', 'T', 'T', 'T', 'T', 48, 'T', 'T', 'T', 'T', 'T', 'T', 'T', 'T', 'T', 'T', 59, 'T', 'T', 'T', 'T', 'T', 'T', 'T', 'T', 'T', 'T', 'T', 'T', 'T', 'T', 'T', 'T', 76]  \n",
      "個數: 8\n"
     ]
    }
   ],
   "source": [
    "#Decision tree C4.5  ----entropy\n",
    "from sklearn.model_selection import train_test_split\n",
    "X_train, X_test, y_train, y_test = train_test_split(Train_x, Text_y, test_size=0.4, random_state=0)\n",
    "\n",
    "from sklearn.tree import DecisionTreeClassifier\n",
    "entropy_tree = DecisionTreeClassifier(criterion = 'entropy', max_depth=3, random_state=0)\n",
    "entropy_tree.fit(X_train,y_train)\n",
    "\n",
    "print(\"預測結果\\n\",entropy_tree.predict(Train_x))\n",
    "print(\"entropy準確度:\",entropy_tree.score(Train_x,Text_y))\n",
    "print(\"----------------------------------------------\")\n",
    "#紀錄預測正確\n",
    "entropy_correct = []  \n",
    "#紀錄預測錯誤\n",
    "entropy_error = []\n",
    "correct = 0\n",
    "error = 0\n",
    "for i in range( 0 , len(Train_x) ):\n",
    "    #假如預測值與實際相符\n",
    "    if (entropy_tree.predict(Train_x[ i : i+1])==Text_y[ 'rating' ][ i ]):\n",
    "        entropy_correct.append(i)\n",
    "        #在錯誤陣列中加入T\n",
    "        entropy_error.append(\"T\")\n",
    "        correct+=1\n",
    "    #反之\n",
    "    else:\n",
    "        #在正確陣列中加入F\n",
    "        entropy_correct.append(\"F\")\n",
    "        entropy_error.append(i)\n",
    "        error+=1\n",
    "        \n",
    "print(\"預測正確編號:\",entropy_correct,\" \\n個數:\",correct)\n",
    "print(\"----------------------------------------------\")\n",
    "print(\"預測錯誤編號:\",entropy_error,\" \\n個數:\",error)"
   ]
  },
  {
   "cell_type": "code",
   "execution_count": 311,
   "metadata": {},
   "outputs": [
    {
     "name": "stdout",
     "output_type": "stream",
     "text": [
      "預測結果\n",
      " [1. 0. 1. 1. 1. 1. 1. 1. 1. 1. 0. 1. 0. 1. 0. 1. 1. 1. 0. 1. 1. 1. 1. 1.\n",
      " 1. 1. 1. 1. 1. 1. 1. 0. 1. 1. 1. 0. 1. 1. 1. 1. 1. 1. 1. 1. 1. 1. 1. 1.\n",
      " 1. 1. 1. 1. 1. 1. 1. 1. 1. 1. 1. 1. 1. 1. 1. 1. 1. 1. 1. 1. 1. 1. 1. 1.\n",
      " 1. 1. 1. 1. 1.]\n",
      "gini準確度: 0.948051948051948\n",
      "----------------------------------------------\n",
      "預測正確編號: [0, 1, 2, 3, 'F', 'F', 'F', 'F', 8, 9, 10, 11, 12, 13, 14, 15, 16, 17, 18, 19, 20, 21, 22, 23, 24, 25, 26, 27, 28, 29, 30, 31, 32, 33, 34, 35, 36, 37, 38, 39, 40, 41, 42, 43, 44, 45, 46, 47, 48, 49, 50, 51, 52, 53, 54, 55, 56, 57, 58, 59, 60, 61, 62, 63, 64, 65, 66, 67, 68, 69, 70, 71, 72, 73, 74, 75, 76]  \n",
      "個數: 73\n",
      "----------------------------------------------\n",
      "預測錯誤編號: ['T', 'T', 'T', 'T', 4, 5, 6, 7, 'T', 'T', 'T', 'T', 'T', 'T', 'T', 'T', 'T', 'T', 'T', 'T', 'T', 'T', 'T', 'T', 'T', 'T', 'T', 'T', 'T', 'T', 'T', 'T', 'T', 'T', 'T', 'T', 'T', 'T', 'T', 'T', 'T', 'T', 'T', 'T', 'T', 'T', 'T', 'T', 'T', 'T', 'T', 'T', 'T', 'T', 'T', 'T', 'T', 'T', 'T', 'T', 'T', 'T', 'T', 'T', 'T', 'T', 'T', 'T', 'T', 'T', 'T', 'T', 'T', 'T', 'T', 'T', 'T']  \n",
      "個數: 4\n"
     ]
    }
   ],
   "source": [
    "#Decision tree CART  ----gini\n",
    "from sklearn.model_selection import train_test_split\n",
    "X_train, X_test, y_train, y_test = train_test_split(Train_x, Text_y, test_size=0.4, random_state=0)\n",
    "\n",
    "from sklearn.tree import DecisionTreeClassifier\n",
    "gini_tree = DecisionTreeClassifier(criterion = 'gini', max_depth=3, random_state=0)\n",
    "gini_tree.fit(X_train,y_train)\n",
    "\n",
    "print(\"預測結果\\n\",gini_tree.predict(Train_x))\n",
    "print(\"gini準確度:\",gini_tree.score(Train_x,Text_y))\n",
    "print(\"----------------------------------------------\")\n",
    "#紀錄預測正確\n",
    "gini_correct = []  \n",
    "#紀錄預測錯誤\n",
    "gini_error = []\n",
    "correct = 0\n",
    "error = 0\n",
    "for i in range( 0 , len(Train_x) ):\n",
    "    if (gini_tree.predict(Train_x[ i : i+1]) == Text_y[ 'rating' ][ i ]):\n",
    "        gini_correct.append(i)\n",
    "        #在錯誤陣列中加入T\n",
    "        gini_error.append(\"T\")\n",
    "        correct+=1\n",
    "    else:\n",
    "        #在正確陣列中加入F\n",
    "        gini_correct.append(\"F\")\n",
    "        gini_error.append(i)\n",
    "        error+=1\n",
    "        \n",
    "print(\"預測正確編號:\",gini_correct,\" \\n個數:\",correct)\n",
    "print(\"----------------------------------------------\")\n",
    "print(\"預測錯誤編號:\",gini_error,\" \\n個數:\",error)\n"
   ]
  },
  {
   "cell_type": "code",
   "execution_count": 312,
   "metadata": {
    "scrolled": true
   },
   "outputs": [],
   "source": [
    "#檢測是否為數字\n",
    "def is_num(get_something):\n",
    "    try:\n",
    "        int(get_something)\n",
    "        return True\n",
    "    except ValueError:\n",
    "        pass\n",
    "#entrophy classifier1 ; gini classifier2\n",
    "#計算 分類器1分類器2都正確的情況\n",
    "count_BCorr = 0\n",
    "for i in range(0,len(entropy_correct)):\n",
    "    if( entropy_correct[i] == gini_correct[i] and entropy_correct[i] != 'F'):\n",
    "            count_BCorr+=1\n",
    "#            print(\"都正確的編號:\",i)\n",
    "\n",
    "#計算 分類器1分類器2都錯誤的情況\n",
    "count_BError = 0\n",
    "for a in range( 0,len(gini_error) ):\n",
    "    for b in range( 0,len(entropy_correct) ):\n",
    "        if( entropy_error[a] == gini_error[b] and entropy_error[a] != 'T'):\n",
    "            count_BError+=1\n",
    "#           print(\"都錯誤的編號:\",a)\n",
    "\n",
    "#計算 分類器1對 ; 分類器2錯情況\n",
    "count_C1Corr = 0\n",
    "for i in range(0,len(entropy_correct)):\n",
    "    if( is_num(entropy_correct[i]) and gini_correct[i] == 'F'):\n",
    "            count_C1Corr +=1\n",
    "#           print(\"只有分類器1對的情況:\",i)\n",
    "\n",
    "#計算 分類器1錯 ; 分類器2對情況\n",
    "count_C2Corr = 0\n",
    "for i in range(0,len(entropy_correct)):\n",
    "    if( is_num(gini_correct[i]) and entropy_correct[i] == 'F'):\n",
    "            count_C2Corr +=1\n",
    "#           print(\"只有分類器2對的情況:\",i)"
   ]
  },
  {
   "cell_type": "code",
   "execution_count": 313,
   "metadata": {},
   "outputs": [],
   "source": [
    "# McNemar檢驗\n",
    "# \t\t\t\t\t\t\tClassifier2 Correct,\tClassifier2 Incorrect\n",
    "# Classifier1 Correct \t\t\tYes/Yes\t\t\t\t\tYes/No\n",
    "# Classifier1 Incorrect \t\tNo/Yes \t\t\t\t\tNo/No"
   ]
  },
  {
   "cell_type": "code",
   "execution_count": 314,
   "metadata": {},
   "outputs": [
    {
     "name": "stdout",
     "output_type": "stream",
     "text": [
      "\n",
      "MCNEMAR'S TEST -----------------------------------------------------\n",
      "p = 0.344\n",
      "There was no significant change\n",
      "[[66  3]\n",
      " [ 7  1]]\n"
     ]
    }
   ],
   "source": [
    "import numpy as np\n",
    "import scipy.stats as stats\n",
    "import pandas as pd\n",
    "from statsmodels.sandbox.stats.runs import cochrans_q, mcnemar\n",
    "\n",
    "obs = np.array([\n",
    "                [ count_BCorr  ,  count_C1Corr ],\n",
    "                [ count_C2Corr ,  count_BError ]\n",
    "                ])\n",
    "def Mcnemar(obs):\n",
    "    '''McNemars Test should be run in the \"exact\" version, even though approximate formulas are\n",
    "    typically given in the lecture scripts. Just ignore the statistic that is returned, because\n",
    "    it is different for the two options.\n",
    "     \n",
    "    In the following example, a researcher attempts to determine if a drug has an effect on a\n",
    "    particular disease. Counts of individuals are given in the table, with the diagnosis\n",
    "    (disease: present or absent) before treatment given in the rows, and the diagnosis\n",
    "    after treatment in the columns. The test requires the same subjects to be included in\n",
    "    the before-and-after measurements (matched pairs).\n",
    "    '''\n",
    "    (statistic, pVal) = mcnemar(obs)\n",
    "    print('\\nMCNEMAR\\'S TEST -----------------------------------------------------')\n",
    "    print('p = {0:5.3f}'.format(pVal))\n",
    "    if pVal < 0.05:\n",
    "        print(\"There was a significant change\") \n",
    "    else:\n",
    "       print(\"There was no significant change\")\n",
    "    \n",
    "    print(obs)\n",
    " \n",
    " \n",
    "Mcnemar(obs)     "
   ]
  },
  {
   "cell_type": "code",
   "execution_count": 315,
   "metadata": {},
   "outputs": [],
   "source": [
    "# #將兩個分類器的正確錯誤率列出來\n",
    "# import numpy as np\n",
    "# import pandas as pd\n",
    "# from pandas.core.frame import DataFrame\n",
    "# from scipy import stats\n",
    "\n",
    "# voter_gender = np.array(\n",
    "#                         ([\"Entropy\"]*entropy_correct)+([\"Entropy\"]*entropy_error)+\\\n",
    "#                         ([\"Gini\"]*gini_correct)+([\"Gini\"]*gini_error))\n",
    "\n",
    "# voter_favorite = np.array(([\"判斷正確\"]*entropy_correct)+([\"判斷錯誤\"]*entropy_error)+\\\n",
    "#                           ([\"判斷正確\"]*gini_correct)+([\"判斷錯誤\"]*gini_error))                    \n",
    "\n",
    "\n",
    "# voters = pd.DataFrame({\"gender\" : voter_gender,\"favorite\" : voter_favorite})\n",
    "# voter_tab = pd.crosstab(voters.gender,voters.favorite,margins = True)\n",
    "\n",
    "# voter_tab.columns = [\"判斷正確\",\"判斷錯誤\",\"小計\"]\n",
    "# voter_tab.index = [\"Entropy\",\"Gini\",\"小計\"]\n",
    "# observed = voter_tab.iloc[0:3,0:3]\n",
    "# print(observed)"
   ]
  },
  {
   "cell_type": "code",
   "execution_count": 316,
   "metadata": {},
   "outputs": [
    {
     "name": "stdout",
     "output_type": "stream",
     "text": [
      "statistic=3.000, p-value=0.344\n",
      "Same proportions of errors (fail to reject H0)\n"
     ]
    }
   ],
   "source": [
    "# Example of calculating the mcnemar test\n",
    "from statsmodels.stats.contingency_tables import mcnemar\n",
    "# define contingency table\n",
    "table = [[ count_BCorr  ,  count_C1Corr ],\n",
    "         [ count_C2Corr ,  count_BError ]]\n",
    "# calculate mcnemar test\n",
    "result = mcnemar(table, exact=True)\n",
    "# summarize the finding\n",
    "print('statistic=%.3f, p-value=%.3f' % (result.statistic, result.pvalue))\n",
    "# interpret the p-value\n",
    "alpha = 0.05\n",
    "if result.pvalue > alpha:\n",
    "\tprint('Same proportions of errors (fail to reject H0)')\n",
    "else:\n",
    "\tprint('Different proportions of errors (reject H0)')"
   ]
  }
 ],
 "metadata": {
  "kernelspec": {
   "display_name": "Python 3",
   "language": "python",
   "name": "python3"
  },
  "language_info": {
   "codemirror_mode": {
    "name": "ipython",
    "version": 3
   },
   "file_extension": ".py",
   "mimetype": "text/x-python",
   "name": "python",
   "nbconvert_exporter": "python",
   "pygments_lexer": "ipython3",
   "version": "3.5.2"
  }
 },
 "nbformat": 4,
 "nbformat_minor": 2
}
