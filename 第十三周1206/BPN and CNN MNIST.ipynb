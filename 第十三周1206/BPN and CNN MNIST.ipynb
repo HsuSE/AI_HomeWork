{
 "cells": [
  {
   "cell_type": "code",
   "execution_count": 1,
   "metadata": {},
   "outputs": [
    {
     "name": "stderr",
     "output_type": "stream",
     "text": [
      "c:\\python\\python35\\lib\\site-packages\\h5py\\__init__.py:36: FutureWarning: Conversion of the second argument of issubdtype from `float` to `np.floating` is deprecated. In future, it will be treated as `np.float64 == np.dtype(float).type`.\n",
      "  from ._conv import register_converters as _register_converters\n",
      "Using TensorFlow backend.\n"
     ]
    }
   ],
   "source": [
    "import keras\n",
    "from keras.models import Sequential\n",
    "from keras.layers import Flatten, Dense, Input, Conv2D, MaxPooling2D\n",
    "mnist = keras.datasets.mnist"
   ]
  },
  {
   "cell_type": "code",
   "execution_count": 2,
   "metadata": {},
   "outputs": [
    {
     "name": "stdout",
     "output_type": "stream",
     "text": [
      "_________________________________________________________________\n",
      "Layer (type)                 Output Shape              Param #   \n",
      "=================================================================\n",
      "flatten_1 (Flatten)          (None, 784)               0         \n",
      "_________________________________________________________________\n",
      "dense_1 (Dense)              (None, 400)               314000    \n",
      "_________________________________________________________________\n",
      "dense_2 (Dense)              (None, 200)               80200     \n",
      "_________________________________________________________________\n",
      "dense_3 (Dense)              (None, 10)                2010      \n",
      "=================================================================\n",
      "Total params: 396,210\n",
      "Trainable params: 396,210\n",
      "Non-trainable params: 0\n",
      "_________________________________________________________________\n",
      "Epoch 1/5\n",
      "60000/60000 [==============================] - 13s 222us/step - loss: 0.3526 - acc: 0.8993\n",
      "Epoch 2/5\n",
      "60000/60000 [==============================] - 13s 216us/step - loss: 0.1475 - acc: 0.9553\n",
      "Epoch 3/5\n",
      "60000/60000 [==============================] - 13s 219us/step - loss: 0.0954 - acc: 0.9706\n",
      "Epoch 4/5\n",
      "60000/60000 [==============================] - 13s 219us/step - loss: 0.0668 - acc: 0.9789\n",
      "Epoch 5/5\n",
      "60000/60000 [==============================] - 13s 216us/step - loss: 0.0487 - acc: 0.9845\n"
     ]
    },
    {
     "data": {
      "text/plain": [
       "<keras.callbacks.History at 0x2091cf0cc50>"
      ]
     },
     "execution_count": 2,
     "metadata": {},
     "output_type": "execute_result"
    }
   ],
   "source": [
    "(x_train, y_train),(x_test, y_test) = mnist.load_data()\n",
    "x_train, x_test = x_train / 255.0, x_test / 255.0\n",
    "\n",
    "model = Sequential()\n",
    "\n",
    "model.add(Flatten(input_shape=(28, 28)))\n",
    "model.add(Dense(400, activation='sigmoid'))\n",
    "model.add(Dense(200, activation='sigmoid'))\n",
    "model.add(Dense(10, activation='softmax'))\n",
    "\n",
    "\n",
    "\n",
    "model.compile(optimizer='adam',\n",
    "              loss='sparse_categorical_crossentropy',\n",
    "              metrics=['accuracy'])\n",
    "model.summary()\n",
    "model.fit(x_train, y_train, epochs=5)"
   ]
  },
  {
   "cell_type": "code",
   "execution_count": 3,
   "metadata": {},
   "outputs": [
    {
     "name": "stdout",
     "output_type": "stream",
     "text": [
      "60000/60000 [==============================] - 3s 51us/step\n",
      "Train loss: 0.04 Accuracy: 0.9888\n",
      "10000/10000 [==============================] - 0s 49us/step\n",
      "Test loss: 0.07 Accuracy: 0.9772\n"
     ]
    }
   ],
   "source": [
    "result = model.evaluate(x_train, y_train)\n",
    "print(\"Train loss: %.2f Accuracy: %.4f\" % (result[0], result[1]))\n",
    "result = model.evaluate(x_test, y_test)\n",
    "print(\"Test loss: %.2f Accuracy: %.4f\" % (result[0], result[1]))"
   ]
  },
  {
   "cell_type": "code",
   "execution_count": 4,
   "metadata": {
    "scrolled": false
   },
   "outputs": [
    {
     "name": "stdout",
     "output_type": "stream",
     "text": [
      "_________________________________________________________________\n",
      "Layer (type)                 Output Shape              Param #   \n",
      "=================================================================\n",
      "conv2d_1 (Conv2D)            (None, 24, 24, 32)        832       \n",
      "_________________________________________________________________\n",
      "conv2d_2 (Conv2D)            (None, 22, 22, 64)        18496     \n",
      "_________________________________________________________________\n",
      "max_pooling2d_1 (MaxPooling2 (None, 11, 11, 64)        0         \n",
      "_________________________________________________________________\n",
      "conv2d_3 (Conv2D)            (None, 9, 9, 128)         73856     \n",
      "_________________________________________________________________\n",
      "max_pooling2d_2 (MaxPooling2 (None, 4, 4, 128)         0         \n",
      "_________________________________________________________________\n",
      "conv2d_4 (Conv2D)            (None, 2, 2, 128)         147584    \n",
      "_________________________________________________________________\n",
      "flatten_2 (Flatten)          (None, 512)               0         \n",
      "_________________________________________________________________\n",
      "dense_4 (Dense)              (None, 10)                5130      \n",
      "=================================================================\n",
      "Total params: 245,898\n",
      "Trainable params: 245,898\n",
      "Non-trainable params: 0\n",
      "_________________________________________________________________\n",
      "Epoch 1/5\n",
      "60000/60000 [==============================] - 111s 2ms/step - loss: 0.1502 - acc: 0.9540\n",
      "Epoch 2/5\n",
      "60000/60000 [==============================] - 114s 2ms/step - loss: 0.0858 - acc: 0.9736\n",
      "Epoch 3/5\n",
      "60000/60000 [==============================] - 115s 2ms/step - loss: 0.0740 - acc: 0.9774\n",
      "Epoch 4/5\n",
      "60000/60000 [==============================] - 114s 2ms/step - loss: 0.0677 - acc: 0.9798- ETA: 0s - loss: 0.068\n",
      "Epoch 5/5\n",
      "60000/60000 [==============================] - 116s 2ms/step - loss: 0.0579 - acc: 0.9826\n"
     ]
    },
    {
     "data": {
      "text/plain": [
       "<keras.callbacks.History at 0x2091e6bdf98>"
      ]
     },
     "execution_count": 4,
     "metadata": {},
     "output_type": "execute_result"
    }
   ],
   "source": [
    "x_train, x_test = x_train.reshape(-1, 28, 28, 1), x_test.reshape(-1, 28, 28, 1)\n",
    "cnn = Sequential()\n",
    "cnn.add(Conv2D(32, [5, 5], input_shape=(28, 28, 1)))\n",
    "cnn.add(Conv2D(64, [3, 3]))\n",
    "cnn.add(MaxPooling2D())\n",
    "cnn.add(Conv2D(128, [3, 3]))\n",
    "cnn.add(MaxPooling2D())\n",
    "cnn.add(Conv2D(128, [3, 3]))\n",
    "cnn.add(Flatten())\n",
    "cnn.add(Dense(10, activation='softmax'))\n",
    "cnn.compile(optimizer='adam',\n",
    "              loss='sparse_categorical_crossentropy',\n",
    "              metrics=['accuracy'])\n",
    "cnn.summary()\n",
    "cnn.fit(x_train, y_train, epochs=5)"
   ]
  },
  {
   "cell_type": "code",
   "execution_count": 5,
   "metadata": {},
   "outputs": [
    {
     "name": "stdout",
     "output_type": "stream",
     "text": [
      "60000/60000 [==============================] - 37s 623us/step\n",
      "Train loss: 0.05 Accuracy: 0.9849\n",
      "10000/10000 [==============================] - 7s 660us/step\n",
      "Test loss: 0.08 Accuracy: 0.9763\n"
     ]
    }
   ],
   "source": [
    "result = cnn.evaluate(x_train, y_train)\n",
    "print(\"Train loss: %.2f Accuracy: %.4f\" % (result[0], result[1]))\n",
    "result = cnn.evaluate(x_test, y_test)\n",
    "print(\"Test loss: %.2f Accuracy: %.4f\" % (result[0], result[1]))"
   ]
  },
  {
   "cell_type": "code",
   "execution_count": null,
   "metadata": {},
   "outputs": [],
   "source": []
  }
 ],
 "metadata": {
  "kernelspec": {
   "display_name": "Python 3",
   "language": "python",
   "name": "python3"
  },
  "language_info": {
   "codemirror_mode": {
    "name": "ipython",
    "version": 3
   },
   "file_extension": ".py",
   "mimetype": "text/x-python",
   "name": "python",
   "nbconvert_exporter": "python",
   "pygments_lexer": "ipython3",
   "version": "3.5.2"
  }
 },
 "nbformat": 4,
 "nbformat_minor": 2
}
